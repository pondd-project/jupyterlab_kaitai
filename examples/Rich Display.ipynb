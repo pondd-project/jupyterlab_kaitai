{
 "cells": [
  {
   "cell_type": "markdown",
   "id": "classified-maryland",
   "metadata": {},
   "source": [
    "# Hex\n",
    "\n",
    "The `jupyterlab_kaitai.Hex` display type allows you to display inline hex viewers. A [Jupyter Widget](./Widget.ipynb) is also available."
   ]
  },
  {
   "cell_type": "code",
   "execution_count": null,
   "id": "green-photographer",
   "metadata": {},
   "outputs": [],
   "source": [
    "from jupyterlab_kaitai import Hex"
   ]
  },
  {
   "cell_type": "code",
   "execution_count": null,
   "id": "healthy-speaker",
   "metadata": {},
   "outputs": [],
   "source": [
    "Hex(b\"12345\")"
   ]
  }
 ],
 "metadata": {
  "kernelspec": {
   "display_name": "Python 3",
   "language": "python",
   "name": "python3"
  },
  "language_info": {
   "codemirror_mode": {
    "name": "ipython",
    "version": 3
   },
   "file_extension": ".py",
   "mimetype": "text/x-python",
   "name": "python",
   "nbconvert_exporter": "python",
   "pygments_lexer": "ipython3",
   "version": "3.9.2"
  }
 },
 "nbformat": 4,
 "nbformat_minor": 5
}
