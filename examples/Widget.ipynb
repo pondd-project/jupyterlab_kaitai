{
 "cells": [
  {
   "cell_type": "markdown",
   "id": "australian-neutral",
   "metadata": {},
   "source": [
    "# HexViewer\n",
    "\n",
    "The `jupyterlab_kaitai.HexViewer` is an interactive viewer for binary data. A [Jupyter rich display type](./Rich%20Display.ipynb) is also available."
   ]
  },
  {
   "cell_type": "code",
   "execution_count": null,
   "id": "cordless-outline",
   "metadata": {},
   "outputs": [],
   "source": [
    "from jupyterlab_kaitai import HexViewer, MIME_TYPE"
   ]
  },
  {
   "cell_type": "code",
   "execution_count": null,
   "id": "atmospheric-secret",
   "metadata": {},
   "outputs": [],
   "source": [
    "hv = HexViewer(b\"12345\")\n",
    "hv"
   ]
  }
 ],
 "metadata": {
  "kernelspec": {
   "display_name": "Python 3",
   "language": "python",
   "name": "python3"
  },
  "language_info": {
   "codemirror_mode": {
    "name": "ipython",
    "version": 3
   },
   "file_extension": ".py",
   "mimetype": "text/x-python",
   "name": "python",
   "nbconvert_exporter": "python",
   "pygments_lexer": "ipython3",
   "version": "3.9.2"
  }
 },
 "nbformat": 4,
 "nbformat_minor": 5
}
